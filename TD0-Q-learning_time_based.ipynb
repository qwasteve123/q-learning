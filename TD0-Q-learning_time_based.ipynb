{
 "cells": [
  {
   "cell_type": "code",
   "execution_count": 1,
   "metadata": {},
   "outputs": [],
   "source": [
    "import numpy as np\n",
    "import gymnasium as gym\n",
    "import random\n",
    "from tqdm import tqdm"
   ]
  },
  {
   "cell_type": "code",
   "execution_count": 2,
   "metadata": {},
   "outputs": [],
   "source": [
    "\n",
    "class QLearn:\n",
    "    def __init__(self,env:gym.Env):\n",
    "        self.env = env\n",
    "        self.obs_space: gym.spaces.Box = env.observation_space \n",
    "\n",
    "    def set_num_of_increments(self,num_of_increments: np.ndarray):\n",
    "        self.num_of_increments: np.ndarray = num_of_increments\n",
    "        self.increment: np.ndarray = self._obs_increment()\n",
    "\n",
    "    \n",
    "    def _obs_increment(self) -> np.ndarray:\n",
    "        high = np.array([1.5,1.5,3,3,1.5,3,1,1])\n",
    "        low = np.array([-1.5,-1.5,-3,-3,-1.5,-3,0,0])\n",
    "        # range = self.obs_space.high - self.obs_space.low\n",
    "        range = high - low\n",
    "        increment = range / self.num_of_increments\n",
    "        return increment\n",
    "\n",
    "    def regulate_obs(self, obs: np.ndarray,time_step:int = None)-> np.ndarray:\n",
    "        float_num = obs // self.increment + (self.num_of_increments //2)\n",
    "        float_num = float_num[:-2]\n",
    "        bool_num = obs[-2:]\n",
    "\n",
    "        low_limit = np.zeros(8)\n",
    "        high_limit = self.num_of_increments -1\n",
    "\n",
    "        reg_obs = np.concatenate((float_num,bool_num)).astype(int)\n",
    "        reg_obs = reg_obs.clip(low_limit,high_limit).astype(int)\n",
    "        if time_step is not None:\n",
    "            return self.add_step_dim(reg_obs,time_step)\n",
    "        else:\n",
    "            return reg_obs\n",
    "    \n",
    "    def add_step_dim(self,obs:np.ndarray, time_step: int):\n",
    "        max_step = 300\n",
    "        time_incre = 16\n",
    "        incre = max_step / time_incre\n",
    "        time_step = min(time_incre-1,time_step//incre)\n",
    "        return np.insert(obs,0,time_step)\n",
    "\n",
    "\n",
    "def create_Q_table(*dim):\n",
    "    return np.zeros(dim)\n",
    "\n",
    "#Bellman equation, Q\n",
    "def Q_observed(s2_reward:np.float64, s2_obs: np.ndarray, q_table: np.ndarray, gamma:float):\n",
    "    arg_max_Q = np.argmax(q_table[tuple(s2_obs)])\n",
    "    return s2_reward + gamma * arg_max_Q\n",
    "\n",
    "# def Q_observed(reward:np.float64, s2_obs: np.ndarray, q_table: np.ndarray, gamma:float):\n",
    "#     arg_max_Q = np.argmax(q_table[tuple(s2_obs)])\n",
    "#     return reward + gamma * arg_max_Q\n",
    "\n",
    "def Q_expected(s1_obs: np.ndarray,s1_action: np.int64, q_table: np.ndarray):\n",
    "    index = *s1_obs , s1_action\n",
    "    return q_table[index]\n",
    "\n",
    "def update_Q(Q_observed: float,Q_expected: float, alpha: float, q_table: np.ndarray,s1_obs: np.ndarray,s1_action: np.int64):\n",
    "    index = *s1_obs , s1_action\n",
    "    q_table[index] = Q_expected + alpha * (Q_observed - Q_expected)\n",
    "    return q_table\n",
    "\n",
    "def action_policy(q_table: np.ndarray, s1_obs: np.ndarray):\n",
    "    return np.argmax(q_table[tuple(s1_obs)])\n",
    "\n",
    "\n",
    "def expo_decay(large_epsilon, small_epsilon, epoch, steps):\n",
    "    a = large_epsilon\n",
    "    b = small_epsilon\n",
    "    e = np.e\n",
    "    z = 1- steps/epoch\n",
    "    return z*((a-b)/e)*(e**z)+b\n",
    "\n",
    "\n",
    "\n",
    "\n"
   ]
  },
  {
   "cell_type": "code",
   "execution_count": 3,
   "metadata": {},
   "outputs": [],
   "source": [
    "time_incre = 5\n",
    "states = np.array([16,16,16,16,16,16,2,2])\n",
    "# q_table = create_Q_table(time_incre,*states,4)\n",
    "q_table = create_Q_table(16,*states,4)"
   ]
  },
  {
   "cell_type": "code",
   "execution_count": 4,
   "metadata": {},
   "outputs": [],
   "source": [
    "env = gym.make(\"LunarLander-v2\")\n",
    "agent = QLearn(env)"
   ]
  },
  {
   "cell_type": "code",
   "execution_count": 5,
   "metadata": {},
   "outputs": [],
   "source": [
    "\n",
    "env = gym.make(\"LunarLander-v2\")\n",
    "observation, info = env.reset()\n",
    "max_alpha = 0.1\n",
    "min_alpha = 0.00001\n",
    "gamma = 0.55\n",
    "# epsilon = 0.1\n",
    "max_epsilon = 0.3\n",
    "min_epsilon = 0.00001\n",
    "# num_of_increments = 10\n",
    "epoch = 4_000_000\n",
    "\n",
    "agent = QLearn(env)\n",
    "agent.set_num_of_increments(states)\n",
    "game_step = 0\n",
    "obs = agent.regulate_obs(observation,0)\n",
    "\n"
   ]
  },
  {
   "cell_type": "code",
   "execution_count": 6,
   "metadata": {},
   "outputs": [
    {
     "name": "stderr",
     "output_type": "stream",
     "text": [
      "100%|██████████| 4000000/4000000 [08:59<00:00, 7417.05it/s]\n"
     ]
    }
   ],
   "source": [
    "for _ in tqdm(range(epoch)):\n",
    "    epsilon = expo_decay(max_epsilon,min_epsilon,epoch,_)\n",
    "    alpha = expo_decay(max_alpha,min_alpha,epoch,_)\n",
    "    policy_action = action_policy(q_table,obs)\n",
    "    action = policy_action if random.random() > epsilon else env.action_space.sample()\n",
    "    observation, reward, terminated, truncated, info = env.step(action)\n",
    "\n",
    "    new_obs = agent.regulate_obs(observation,_)\n",
    "\n",
    "    q_observe = Q_observed(reward,new_obs,q_table,gamma)\n",
    "    q_expected = Q_expected(obs,action,q_table)\n",
    "\n",
    "    update_Q(q_observe,q_expected,alpha,q_table,obs,action)\n",
    "\n",
    "    if terminated or truncated:\n",
    "        observation, info = env.reset()\n",
    "        obs = agent.regulate_obs(observation,_)\n",
    "    else:\n",
    "        obs = new_obs\n"
   ]
  },
  {
   "cell_type": "code",
   "execution_count": 9,
   "metadata": {},
   "outputs": [],
   "source": [
    "from playsound import playsound\n",
    "playsound('./yakemashita.wav')"
   ]
  },
  {
   "cell_type": "code",
   "execution_count": 10,
   "metadata": {},
   "outputs": [
    {
     "ename": "KeyboardInterrupt",
     "evalue": "",
     "output_type": "error",
     "traceback": [
      "\u001b[1;31m---------------------------------------------------------------------------\u001b[0m",
      "\u001b[1;31mKeyboardInterrupt\u001b[0m                         Traceback (most recent call last)",
      "Cell \u001b[1;32mIn[10], line 10\u001b[0m\n\u001b[0;32m      8\u001b[0m game_step \u001b[38;5;241m+\u001b[39m\u001b[38;5;241m=\u001b[39m \u001b[38;5;241m1\u001b[39m\n\u001b[0;32m      9\u001b[0m action \u001b[38;5;241m=\u001b[39m action_policy(q_table,obs)\n\u001b[1;32m---> 10\u001b[0m observation, reward, terminated, truncated, info \u001b[38;5;241m=\u001b[39m \u001b[43menv\u001b[49m\u001b[38;5;241;43m.\u001b[39;49m\u001b[43mstep\u001b[49m\u001b[43m(\u001b[49m\u001b[43maction\u001b[49m\u001b[43m)\u001b[49m\n\u001b[0;32m     11\u001b[0m new_obs \u001b[38;5;241m=\u001b[39m agent\u001b[38;5;241m.\u001b[39mregulate_obs(observation,_)\n\u001b[0;32m     13\u001b[0m \u001b[38;5;28;01mif\u001b[39;00m terminated \u001b[38;5;129;01mor\u001b[39;00m truncated:\n",
      "File \u001b[1;32mc:\\Users\\waito\\Desktop\\Python_projects\\Reinforcement\\reinforce_env\\lib\\site-packages\\gymnasium\\wrappers\\time_limit.py:57\u001b[0m, in \u001b[0;36mTimeLimit.step\u001b[1;34m(self, action)\u001b[0m\n\u001b[0;32m     46\u001b[0m \u001b[38;5;28;01mdef\u001b[39;00m \u001b[38;5;21mstep\u001b[39m(\u001b[38;5;28mself\u001b[39m, action):\n\u001b[0;32m     47\u001b[0m \u001b[38;5;250m    \u001b[39m\u001b[38;5;124;03m\"\"\"Steps through the environment and if the number of steps elapsed exceeds ``max_episode_steps`` then truncate.\u001b[39;00m\n\u001b[0;32m     48\u001b[0m \n\u001b[0;32m     49\u001b[0m \u001b[38;5;124;03m    Args:\u001b[39;00m\n\u001b[1;32m   (...)\u001b[0m\n\u001b[0;32m     55\u001b[0m \n\u001b[0;32m     56\u001b[0m \u001b[38;5;124;03m    \"\"\"\u001b[39;00m\n\u001b[1;32m---> 57\u001b[0m     observation, reward, terminated, truncated, info \u001b[38;5;241m=\u001b[39m \u001b[38;5;28;43mself\u001b[39;49m\u001b[38;5;241;43m.\u001b[39;49m\u001b[43menv\u001b[49m\u001b[38;5;241;43m.\u001b[39;49m\u001b[43mstep\u001b[49m\u001b[43m(\u001b[49m\u001b[43maction\u001b[49m\u001b[43m)\u001b[49m\n\u001b[0;32m     58\u001b[0m     \u001b[38;5;28mself\u001b[39m\u001b[38;5;241m.\u001b[39m_elapsed_steps \u001b[38;5;241m+\u001b[39m\u001b[38;5;241m=\u001b[39m \u001b[38;5;241m1\u001b[39m\n\u001b[0;32m     60\u001b[0m     \u001b[38;5;28;01mif\u001b[39;00m \u001b[38;5;28mself\u001b[39m\u001b[38;5;241m.\u001b[39m_elapsed_steps \u001b[38;5;241m>\u001b[39m\u001b[38;5;241m=\u001b[39m \u001b[38;5;28mself\u001b[39m\u001b[38;5;241m.\u001b[39m_max_episode_steps:\n",
      "File \u001b[1;32mc:\\Users\\waito\\Desktop\\Python_projects\\Reinforcement\\reinforce_env\\lib\\site-packages\\gymnasium\\wrappers\\order_enforcing.py:56\u001b[0m, in \u001b[0;36mOrderEnforcing.step\u001b[1;34m(self, action)\u001b[0m\n\u001b[0;32m     54\u001b[0m \u001b[38;5;28;01mif\u001b[39;00m \u001b[38;5;129;01mnot\u001b[39;00m \u001b[38;5;28mself\u001b[39m\u001b[38;5;241m.\u001b[39m_has_reset:\n\u001b[0;32m     55\u001b[0m     \u001b[38;5;28;01mraise\u001b[39;00m ResetNeeded(\u001b[38;5;124m\"\u001b[39m\u001b[38;5;124mCannot call env.step() before calling env.reset()\u001b[39m\u001b[38;5;124m\"\u001b[39m)\n\u001b[1;32m---> 56\u001b[0m \u001b[38;5;28;01mreturn\u001b[39;00m \u001b[38;5;28;43mself\u001b[39;49m\u001b[38;5;241;43m.\u001b[39;49m\u001b[43menv\u001b[49m\u001b[38;5;241;43m.\u001b[39;49m\u001b[43mstep\u001b[49m\u001b[43m(\u001b[49m\u001b[43maction\u001b[49m\u001b[43m)\u001b[49m\n",
      "File \u001b[1;32mc:\\Users\\waito\\Desktop\\Python_projects\\Reinforcement\\reinforce_env\\lib\\site-packages\\gymnasium\\wrappers\\env_checker.py:51\u001b[0m, in \u001b[0;36mPassiveEnvChecker.step\u001b[1;34m(self, action)\u001b[0m\n\u001b[0;32m     49\u001b[0m     \u001b[38;5;28;01mreturn\u001b[39;00m env_step_passive_checker(\u001b[38;5;28mself\u001b[39m\u001b[38;5;241m.\u001b[39menv, action)\n\u001b[0;32m     50\u001b[0m \u001b[38;5;28;01melse\u001b[39;00m:\n\u001b[1;32m---> 51\u001b[0m     \u001b[38;5;28;01mreturn\u001b[39;00m \u001b[38;5;28;43mself\u001b[39;49m\u001b[38;5;241;43m.\u001b[39;49m\u001b[43menv\u001b[49m\u001b[38;5;241;43m.\u001b[39;49m\u001b[43mstep\u001b[49m\u001b[43m(\u001b[49m\u001b[43maction\u001b[49m\u001b[43m)\u001b[49m\n",
      "File \u001b[1;32mc:\\Users\\waito\\Desktop\\Python_projects\\Reinforcement\\reinforce_env\\lib\\site-packages\\gymnasium\\envs\\box2d\\lunar_lander.py:675\u001b[0m, in \u001b[0;36mLunarLander.step\u001b[1;34m(self, action)\u001b[0m\n\u001b[0;32m    672\u001b[0m     reward \u001b[38;5;241m=\u001b[39m \u001b[38;5;241m+\u001b[39m\u001b[38;5;241m100\u001b[39m\n\u001b[0;32m    674\u001b[0m \u001b[38;5;28;01mif\u001b[39;00m \u001b[38;5;28mself\u001b[39m\u001b[38;5;241m.\u001b[39mrender_mode \u001b[38;5;241m==\u001b[39m \u001b[38;5;124m\"\u001b[39m\u001b[38;5;124mhuman\u001b[39m\u001b[38;5;124m\"\u001b[39m:\n\u001b[1;32m--> 675\u001b[0m     \u001b[38;5;28;43mself\u001b[39;49m\u001b[38;5;241;43m.\u001b[39;49m\u001b[43mrender\u001b[49m\u001b[43m(\u001b[49m\u001b[43m)\u001b[49m\n\u001b[0;32m    676\u001b[0m \u001b[38;5;28;01mreturn\u001b[39;00m np\u001b[38;5;241m.\u001b[39marray(state, dtype\u001b[38;5;241m=\u001b[39mnp\u001b[38;5;241m.\u001b[39mfloat32), reward, terminated, \u001b[38;5;28;01mFalse\u001b[39;00m, {}\n",
      "File \u001b[1;32mc:\\Users\\waito\\Desktop\\Python_projects\\Reinforcement\\reinforce_env\\lib\\site-packages\\gymnasium\\envs\\box2d\\lunar_lander.py:787\u001b[0m, in \u001b[0;36mLunarLander.render\u001b[1;34m(self)\u001b[0m\n\u001b[0;32m    785\u001b[0m     \u001b[38;5;28mself\u001b[39m\u001b[38;5;241m.\u001b[39mscreen\u001b[38;5;241m.\u001b[39mblit(\u001b[38;5;28mself\u001b[39m\u001b[38;5;241m.\u001b[39msurf, (\u001b[38;5;241m0\u001b[39m, \u001b[38;5;241m0\u001b[39m))\n\u001b[0;32m    786\u001b[0m     pygame\u001b[38;5;241m.\u001b[39mevent\u001b[38;5;241m.\u001b[39mpump()\n\u001b[1;32m--> 787\u001b[0m     \u001b[38;5;28;43mself\u001b[39;49m\u001b[38;5;241;43m.\u001b[39;49m\u001b[43mclock\u001b[49m\u001b[38;5;241;43m.\u001b[39;49m\u001b[43mtick\u001b[49m\u001b[43m(\u001b[49m\u001b[38;5;28;43mself\u001b[39;49m\u001b[38;5;241;43m.\u001b[39;49m\u001b[43mmetadata\u001b[49m\u001b[43m[\u001b[49m\u001b[38;5;124;43m\"\u001b[39;49m\u001b[38;5;124;43mrender_fps\u001b[39;49m\u001b[38;5;124;43m\"\u001b[39;49m\u001b[43m]\u001b[49m\u001b[43m)\u001b[49m\n\u001b[0;32m    788\u001b[0m     pygame\u001b[38;5;241m.\u001b[39mdisplay\u001b[38;5;241m.\u001b[39mflip()\n\u001b[0;32m    789\u001b[0m \u001b[38;5;28;01melif\u001b[39;00m \u001b[38;5;28mself\u001b[39m\u001b[38;5;241m.\u001b[39mrender_mode \u001b[38;5;241m==\u001b[39m \u001b[38;5;124m\"\u001b[39m\u001b[38;5;124mrgb_array\u001b[39m\u001b[38;5;124m\"\u001b[39m:\n",
      "\u001b[1;31mKeyboardInterrupt\u001b[0m: "
     ]
    }
   ],
   "source": [
    "env = gym.make(\"LunarLander-v2\",render_mode=\"human\")\n",
    "observation, info = env.reset()\n",
    "obs = agent.regulate_obs(observation,0)\n",
    "\n",
    " \n",
    "\n",
    "for _ in range(epoch):\n",
    "    game_step += 1\n",
    "    action = action_policy(q_table,obs)\n",
    "    observation, reward, terminated, truncated, info = env.step(action)\n",
    "    new_obs = agent.regulate_obs(observation,_)\n",
    "\n",
    "    if terminated or truncated:\n",
    "        observation, info = env.reset()\n",
    "        game_step = 0\n",
    "        obs = agent.regulate_obs(observation,_)\n",
    "    else:\n",
    "        obs = new_obs"
   ]
  },
  {
   "cell_type": "code",
   "execution_count": null,
   "metadata": {},
   "outputs": [],
   "source": [
    "env = gym.make(\"LunarLander-v2\")\n",
    "observation, info = env.reset()\n",
    "\n",
    "obs = agent.regulate_obs(observation,0)\n",
    "\n",
    "temp = []\n",
    "term_count = 0\n",
    "survival_count = 0\n",
    "for _ in range(100000):\n",
    "    game_step += 1\n",
    "\n",
    "    policy_action = action_policy(q_table,obs)\n",
    "    action = policy_action\n",
    "    observation, reward, terminated, truncated, info = env.step(action)\n",
    "    new_obs = agent.regulate_obs(observation,_)\n",
    "\n",
    "    if terminated or truncated:\n",
    "        observation, info = env.reset()\n",
    "        game_step = 0\n",
    "        obs = agent.regulate_obs(observation,_)\n",
    "        term_count += 1\n",
    "        if reward > 99:\n",
    "            survival_count +=1\n",
    "            print(f\"term: {term_count}, survival rate: {survival_count/term_count}\")\n",
    "    else:\n",
    "        obs = new_obs\n",
    "        temp.append(observation[3])\n",
    "print(1000000/term_count)"
   ]
  },
  {
   "cell_type": "code",
   "execution_count": null,
   "metadata": {},
   "outputs": [],
   "source": [
    "def mean(data):\n",
    "    \"\"\"Return the sample arithmetic mean of data.\"\"\"\n",
    "    n = len(data)\n",
    "    if n < 1:\n",
    "        raise ValueError('mean requires at least one data point')\n",
    "    return sum(data)/n # in Python 2 use sum(data)/float(n)\n",
    "\n",
    "def _ss(data):\n",
    "    \"\"\"Return sum of square deviations of sequence data.\"\"\"\n",
    "    c = mean(data)\n",
    "    ss = sum((x-c)**2 for x in data)\n",
    "    return ss\n",
    "\n",
    "def stddev(data, ddof=0):\n",
    "    \"\"\"Calculates the population standard deviation\n",
    "    by default; specify ddof=1 to compute the sample\n",
    "    standard deviation.\"\"\"\n",
    "    n = len(data)\n",
    "    if n < 2:\n",
    "        raise ValueError('variance requires at least two data points')\n",
    "    ss = _ss(data)\n",
    "    pvar = ss/(n-ddof)\n",
    "    return pvar**0.5\n",
    "\n",
    "mean(temp)"
   ]
  },
  {
   "cell_type": "code",
   "execution_count": null,
   "metadata": {},
   "outputs": [],
   "source": [
    "env.close"
   ]
  },
  {
   "cell_type": "code",
   "execution_count": null,
   "metadata": {},
   "outputs": [],
   "source": [
    "np.save('my_array.npy', q_table) "
   ]
  }
 ],
 "metadata": {
  "kernelspec": {
   "display_name": "reinforce_env",
   "language": "python",
   "name": "python3"
  },
  "language_info": {
   "codemirror_mode": {
    "name": "ipython",
    "version": 3
   },
   "file_extension": ".py",
   "mimetype": "text/x-python",
   "name": "python",
   "nbconvert_exporter": "python",
   "pygments_lexer": "ipython3",
   "version": "3.10.7"
  }
 },
 "nbformat": 4,
 "nbformat_minor": 2
}
